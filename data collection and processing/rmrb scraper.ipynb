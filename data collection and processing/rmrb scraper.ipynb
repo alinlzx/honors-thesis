{
 "cells": [
  {
   "cell_type": "code",
   "execution_count": 2,
   "id": "f8fca187",
   "metadata": {},
   "outputs": [],
   "source": [
    "from selenium import webdriver\n",
    "import time"
   ]
  },
  {
   "cell_type": "code",
   "execution_count": 28,
   "id": "f524dadd",
   "metadata": {},
   "outputs": [],
   "source": [
    "pages_scraped = 498\n",
    "articles_per_page = 20\n",
    "\n",
    "full_titles = []\n",
    "full_timestamps = []\n",
    "full_tags = []\n",
    "full_texts = []"
   ]
  },
  {
   "cell_type": "code",
   "execution_count": 29,
   "id": "581e2ae0",
   "metadata": {},
   "outputs": [],
   "source": [
    "driver = webdriver.Chrome(executable_path = '/Users/alexlin/Downloads/chromedriver')\n",
    "\n",
    "# driver.get(\"http://data.people.com.cn/rmrb/s?qs=%7B%22cds%22%3A%5B%7B%22cdr%22%3A%22AND%22%2C%22cds%22%3A%5B%7B%22fld%22%3A%22title%22%2C%22cdr%22%3A%22OR%22%2C%22hlt%22%3A%22true%22%2C%22vlr%22%3A%22AND%22%2C%22qtp%22%3A%22DEF%22%2C%22val%22%3A%22%E7%BE%8E%E5%9B%BD%22%7D%2C%7B%22fld%22%3A%22subTitle%22%2C%22cdr%22%3A%22OR%22%2C%22hlt%22%3A%22false%22%2C%22vlr%22%3A%22AND%22%2C%22qtp%22%3A%22DEF%22%2C%22val%22%3A%22%E7%BE%8E%E5%9B%BD%22%7D%2C%7B%22fld%22%3A%22introTitle%22%2C%22cdr%22%3A%22OR%22%2C%22hlt%22%3A%22false%22%2C%22vlr%22%3A%22AND%22%2C%22qtp%22%3A%22DEF%22%2C%22val%22%3A%22%E7%BE%8E%E5%9B%BD%22%7D%2C%7B%22fld%22%3A%22contentText%22%2C%22cdr%22%3A%22OR%22%2C%22hlt%22%3A%22true%22%2C%22vlr%22%3A%22AND%22%2C%22qtp%22%3A%22DEF%22%2C%22val%22%3A%22%E7%BE%8E%E5%9B%BD%22%7D%5D%7D%5D%2C%22obs%22%3A%5B%7B%22fld%22%3A%22dataTime%22%2C%22drt%22%3A%22DESC%22%7D%5D%7D&tr=A&ss=1&pageNo=1&pageSize=50\")\n",
    "\n",
    "driver.get(\"http://data.people.com.cn.proxy.library.georgetown.edu/rmrb/s?type=1&qs=%7B%22cds%22%3A%5B%7B%22cdr%22%3A%22AND%22%2C%22cds%22%3A%5B%7B%22fld%22%3A%22title%22%2C%22cdr%22%3A%22OR%22%2C%22hlt%22%3A%22true%22%2C%22vlr%22%3A%22AND%22%2C%22qtp%22%3A%22DEF%22%2C%22val%22%3A%22%E7%BE%8E%E5%9B%BD%22%7D%2C%7B%22fld%22%3A%22subTitle%22%2C%22cdr%22%3A%22OR%22%2C%22hlt%22%3A%22false%22%2C%22vlr%22%3A%22AND%22%2C%22qtp%22%3A%22DEF%22%2C%22val%22%3A%22%E7%BE%8E%E5%9B%BD%22%7D%2C%7B%22fld%22%3A%22introTitle%22%2C%22cdr%22%3A%22OR%22%2C%22hlt%22%3A%22false%22%2C%22vlr%22%3A%22AND%22%2C%22qtp%22%3A%22DEF%22%2C%22val%22%3A%22%E7%BE%8E%E5%9B%BD%22%7D%2C%7B%22fld%22%3A%22contentText%22%2C%22cdr%22%3A%22OR%22%2C%22hlt%22%3A%22true%22%2C%22vlr%22%3A%22AND%22%2C%22qtp%22%3A%22DEF%22%2C%22val%22%3A%22%E7%BE%8E%E5%9B%BD%22%7D%5D%7D%5D%2C%22obs%22%3A%5B%7B%22fld%22%3A%22dataTime%22%2C%22drt%22%3A%22DESC%22%7D%5D%7D\")\n",
    "\n",
    "driver.maximize_window()\n",
    "time.sleep(1)"
   ]
  },
  {
   "cell_type": "code",
   "execution_count": 30,
   "id": "523a9b81",
   "metadata": {},
   "outputs": [],
   "source": [
    "username = \"al1439\"\n",
    "password = \"hookah-covet-lover-logos-scurry\"\n",
    "\n",
    "driver.find_element_by_name(\"j_username\").send_keys(username)\n",
    "driver.find_element_by_name(\"j_password\").send_keys(password)\n",
    "\n",
    "sign_in_button = driver.find_element_by_xpath(\"/html/body/div/div/main/div/form/div/input\")\n",
    "sign_in_button.click()"
   ]
  },
  {
   "cell_type": "code",
   "execution_count": 32,
   "id": "90c219e5",
   "metadata": {},
   "outputs": [],
   "source": [
    "def prelim_scrape():\n",
    "    \n",
    "    titles = []\n",
    "    timestamps = []\n",
    "    tags = []\n",
    "    \n",
    "    titles_scrape = driver.find_elements_by_xpath('//div[@class=\"sreach_li\"]/h3/a')\n",
    "    timestamps_scrape = driver.find_elements_by_xpath('//div[@class=\"listinfo\"]')\n",
    "    # texts = driver.find_elements_by_xpath('//div[@class=\"incon_text clearfix\"]/p')\n",
    "    tags_scrape = driver.find_elements_by_xpath('//div[@class=\"keywords\"]')\n",
    "    \n",
    "    for item in range(len(titles_scrape)):\n",
    "        # print(titles_scrape[item].text)\n",
    "        titles.append(titles_scrape[item].text)\n",
    "        timestamps.append(timestamps_scrape[item].text)\n",
    "        tags.append(tags_scrape[item].text)\n",
    "    \n",
    "    return titles_scrape, titles, timestamps, tags"
   ]
  },
  {
   "cell_type": "code",
   "execution_count": 33,
   "id": "429aa014",
   "metadata": {},
   "outputs": [],
   "source": [
    "def full_scrape(links, articles_per_page):  \n",
    "    \n",
    "    parent = driver.window_handles[0]\n",
    "    article = \"\"\n",
    "    texts = []\n",
    "\n",
    "    for i in range(articles_per_page):\n",
    "        links[i].click()\n",
    "        driver.switch_to.window(driver.window_handles[1])\n",
    "        time.sleep(3)\n",
    "        \n",
    "        # scrape full text\n",
    "        full_text = driver.find_elements_by_xpath('//div[@id=\"FontZoom\"]/p')\n",
    "        for paragraph in full_text:\n",
    "            article += paragraph.text\n",
    "        ## print(article)\n",
    "        texts.append(article)\n",
    "        article = \"\"\n",
    "        \n",
    "        time.sleep(1)\n",
    "\n",
    "        driver.close()\n",
    "        driver.switch_to.window(parent)\n",
    "    \n",
    "    return texts"
   ]
  },
  {
   "cell_type": "code",
   "execution_count": 160,
   "id": "56ca5158",
   "metadata": {},
   "outputs": [],
   "source": [
    "parent = driver.window_handles[0]\n",
    "driver.close()\n",
    "driver.switch_to.window(parent)"
   ]
  },
  {
   "cell_type": "code",
   "execution_count": 34,
   "id": "f5581a61",
   "metadata": {},
   "outputs": [
    {
     "ename": "KeyboardInterrupt",
     "evalue": "",
     "output_type": "error",
     "traceback": [
      "\u001b[0;31m---------------------------------------------------------------------------\u001b[0m",
      "\u001b[0;31mKeyboardInterrupt\u001b[0m                         Traceback (most recent call last)",
      "\u001b[0;32m/var/folders/j7/79hr95hd7kb_3g8vc4y594bc0000gn/T/ipykernel_3838/2575371810.py\u001b[0m in \u001b[0;36m<module>\u001b[0;34m\u001b[0m\n\u001b[1;32m      1\u001b[0m \u001b[0;32mfor\u001b[0m \u001b[0mpages\u001b[0m \u001b[0;32min\u001b[0m \u001b[0mrange\u001b[0m\u001b[0;34m(\u001b[0m\u001b[0mpages_scraped\u001b[0m\u001b[0;34m)\u001b[0m\u001b[0;34m:\u001b[0m\u001b[0;34m\u001b[0m\u001b[0;34m\u001b[0m\u001b[0m\n\u001b[1;32m      2\u001b[0m     \u001b[0mtitles_scrape\u001b[0m\u001b[0;34m,\u001b[0m \u001b[0mtitles\u001b[0m\u001b[0;34m,\u001b[0m \u001b[0mtimestamps\u001b[0m\u001b[0;34m,\u001b[0m \u001b[0mtags\u001b[0m \u001b[0;34m=\u001b[0m \u001b[0mprelim_scrape\u001b[0m\u001b[0;34m(\u001b[0m\u001b[0;34m)\u001b[0m\u001b[0;34m\u001b[0m\u001b[0;34m\u001b[0m\u001b[0m\n\u001b[0;32m----> 3\u001b[0;31m     \u001b[0mtexts\u001b[0m \u001b[0;34m=\u001b[0m \u001b[0mfull_scrape\u001b[0m\u001b[0;34m(\u001b[0m\u001b[0mtitles_scrape\u001b[0m\u001b[0;34m,\u001b[0m \u001b[0marticles_per_page\u001b[0m\u001b[0;34m)\u001b[0m\u001b[0;34m\u001b[0m\u001b[0;34m\u001b[0m\u001b[0m\n\u001b[0m\u001b[1;32m      4\u001b[0m     \u001b[0mfull_titles\u001b[0m\u001b[0;34m.\u001b[0m\u001b[0mextend\u001b[0m\u001b[0;34m(\u001b[0m\u001b[0mtitles\u001b[0m\u001b[0;34m)\u001b[0m\u001b[0;34m\u001b[0m\u001b[0;34m\u001b[0m\u001b[0m\n\u001b[1;32m      5\u001b[0m     \u001b[0mfull_timestamps\u001b[0m\u001b[0;34m.\u001b[0m\u001b[0mextend\u001b[0m\u001b[0;34m(\u001b[0m\u001b[0mtimestamps\u001b[0m\u001b[0;34m)\u001b[0m\u001b[0;34m\u001b[0m\u001b[0;34m\u001b[0m\u001b[0m\n",
      "\u001b[0;32m/var/folders/j7/79hr95hd7kb_3g8vc4y594bc0000gn/T/ipykernel_3838/200738091.py\u001b[0m in \u001b[0;36mfull_scrape\u001b[0;34m(links, articles_per_page)\u001b[0m\n\u001b[1;32m      8\u001b[0m         \u001b[0mlinks\u001b[0m\u001b[0;34m[\u001b[0m\u001b[0mi\u001b[0m\u001b[0;34m]\u001b[0m\u001b[0;34m.\u001b[0m\u001b[0mclick\u001b[0m\u001b[0;34m(\u001b[0m\u001b[0;34m)\u001b[0m\u001b[0;34m\u001b[0m\u001b[0;34m\u001b[0m\u001b[0m\n\u001b[1;32m      9\u001b[0m         \u001b[0mdriver\u001b[0m\u001b[0;34m.\u001b[0m\u001b[0mswitch_to\u001b[0m\u001b[0;34m.\u001b[0m\u001b[0mwindow\u001b[0m\u001b[0;34m(\u001b[0m\u001b[0mdriver\u001b[0m\u001b[0;34m.\u001b[0m\u001b[0mwindow_handles\u001b[0m\u001b[0;34m[\u001b[0m\u001b[0;36m1\u001b[0m\u001b[0;34m]\u001b[0m\u001b[0;34m)\u001b[0m\u001b[0;34m\u001b[0m\u001b[0;34m\u001b[0m\u001b[0m\n\u001b[0;32m---> 10\u001b[0;31m         \u001b[0mtime\u001b[0m\u001b[0;34m.\u001b[0m\u001b[0msleep\u001b[0m\u001b[0;34m(\u001b[0m\u001b[0;36m3\u001b[0m\u001b[0;34m)\u001b[0m\u001b[0;34m\u001b[0m\u001b[0;34m\u001b[0m\u001b[0m\n\u001b[0m\u001b[1;32m     11\u001b[0m \u001b[0;34m\u001b[0m\u001b[0m\n\u001b[1;32m     12\u001b[0m         \u001b[0;31m# scrape full text\u001b[0m\u001b[0;34m\u001b[0m\u001b[0;34m\u001b[0m\u001b[0;34m\u001b[0m\u001b[0m\n",
      "\u001b[0;31mKeyboardInterrupt\u001b[0m: "
     ]
    }
   ],
   "source": [
    "for pages in range(pages_scraped):\n",
    "    titles_scrape, titles, timestamps, tags = prelim_scrape()\n",
    "    texts = full_scrape(titles_scrape, articles_per_page)\n",
    "    full_titles.extend(titles)\n",
    "    full_timestamps.extend(timestamps)\n",
    "    full_tags.extend(tags)\n",
    "    full_texts.extend(texts)\n",
    "    next_button = driver.find_elements_by_xpath('//div[@class=\"pageNav_wrap\"]/div/span/a')\n",
    "    next_button[-1].click()\n",
    "    time.sleep(2)"
   ]
  },
  {
   "cell_type": "code",
   "execution_count": 19,
   "id": "e921f921",
   "metadata": {},
   "outputs": [],
   "source": [
    "driver.quit()"
   ]
  },
  {
   "cell_type": "code",
   "execution_count": 27,
   "id": "1758ee33",
   "metadata": {},
   "outputs": [],
   "source": [
    "with open('rmrb scrape output pages 3_500.csv', 'w') as file:\n",
    "    file.write(\"titles; dates; texts; tags \\n\")\n",
    "    for row in range(len(full_titles)):\n",
    "        file.write(full_titles[row] + ';' + full_timestamps[row] + ';' + full_texts[row] + ';' + full_tags[row] + '\\n')"
   ]
  },
  {
   "cell_type": "code",
   "execution_count": null,
   "id": "d69e817f",
   "metadata": {},
   "outputs": [],
   "source": []
  }
 ],
 "metadata": {
  "kernelspec": {
   "display_name": "Python 3 (ipykernel)",
   "language": "python",
   "name": "python3"
  },
  "language_info": {
   "codemirror_mode": {
    "name": "ipython",
    "version": 3
   },
   "file_extension": ".py",
   "mimetype": "text/x-python",
   "name": "python",
   "nbconvert_exporter": "python",
   "pygments_lexer": "ipython3",
   "version": "3.8.8"
  }
 },
 "nbformat": 4,
 "nbformat_minor": 5
}
