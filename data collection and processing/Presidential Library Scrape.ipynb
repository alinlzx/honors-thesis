{
 "cells": [
  {
   "cell_type": "markdown",
   "id": "a9a2dedf",
   "metadata": {},
   "source": [
    "# Scraping Text"
   ]
  },
  {
   "cell_type": "code",
   "execution_count": 1,
   "id": "f8fca187",
   "metadata": {},
   "outputs": [],
   "source": [
    "import pandas as pd\n",
    "from selenium import webdriver\n",
    "import time\n",
    "import re"
   ]
  },
  {
   "cell_type": "code",
   "execution_count": 8,
   "id": "f524dadd",
   "metadata": {},
   "outputs": [],
   "source": [
    "# pages_scraped = 1\n",
    "# articles_per_page = 2\n",
    "\n",
    "full_titles = []\n",
    "full_timestamps = []\n",
    "full_texts = []\n",
    "full_sources = []\n",
    "full_subhead2 = []"
   ]
  },
  {
   "cell_type": "code",
   "execution_count": 6,
   "id": "581e2ae0",
   "metadata": {},
   "outputs": [],
   "source": [
    "driver = webdriver.Chrome(executable_path = '/Users/alexlin/Downloads/chromedriver')\n",
    "\n",
    "driver.get(\"https://heinonline-org.proxy.library.georgetown.edu/HOL/LuceneSearch?searchtype=field&submit=Go&search_within=&prev_q=(((((((China)))%20OR%20(((Chinese))))%20OR%20(((CCP))))%20OR%20(((PRC)))))&prev_origterms=&cited_by=&maxresults=100&terms=((((((China)))%20OR%20(((Chinese))))%20OR%20(((CCP))))%20OR%20(((PRC))))&origterms=&termtype=word&termtypea=phrase&termtypeb=phrase&termtypec=phrase&termtyped=phrase&termtypee=phrase&termtypef=phrase&sortby=&collection=congrec&specialcollection=&operator=OR&topic_operator=&operatorb=OR&operatorc=OR&operatord=AND&operatore=AND&termsa=(((China)))&termsb=(((Chinese)))&termsc=(((CCP)))&termsd=(((PRC)))&termse=&termsf=&typea=text&other_cols=yes&typeb=text&typec=text&typed=text&typee=text&typef=text&yearlo=2000&yearhi=2050&pure=0&all=&language=&congress=&judge=&court_name=&chamber=&IFI=&new_results=&new_face=partof&committee=&doc_type=&solr=true&dontsave=1&current_historical=&latest=&document_type_facet=&category_facet=&authority_type=ANY&country_code=&face_quers=partof:crs&face_quers=partof:debcong&collections=&cite_count=&jump=true&matches=((((China))))|((((Chinese))))|((((CCP))))|((((PRC))))&firstdoc=21800&initcounter=21801&infinite_scroll=off&pathfinder=&base=driver.maximize_window()\")\n",
    "time.sleep(1)"
   ]
  },
  {
   "cell_type": "code",
   "execution_count": 7,
   "id": "523a9b81",
   "metadata": {},
   "outputs": [],
   "source": [
    "username = \"al1439\"\n",
    "password = \"hookah-covet-lover-logos-scurry\"\n",
    "\n",
    "driver.find_element_by_name(\"j_username\").send_keys(username)\n",
    "driver.find_element_by_name(\"j_password\").send_keys(password)\n",
    "\n",
    "# sign_in_button = driver.find_element_by_xpath(\"/html/body/div/div/main/div/form/div/input\")\n",
    "sign_in_button = driver.find_element_by_name(\"_eventId_proceed\")\n",
    "sign_in_button.click()"
   ]
  },
  {
   "cell_type": "code",
   "execution_count": 10,
   "id": "90c219e5",
   "metadata": {},
   "outputs": [],
   "source": [
    "pages_scraped = 301\n",
    "articles_per_page = 100\n",
    "\n",
    "def prelim_scrape():\n",
    "    \n",
    "    titles = []\n",
    "    timestamps = []\n",
    "    texts = []\n",
    "    sources = []\n",
    "    subhead2 = []\n",
    "    \n",
    "    row_xpath = '(//div[contains(@class, \"lucene_search_result_b\")])'\n",
    "    \n",
    "    # titles_scrape = driver.find_elements_by_xpath('//div[@class=\"lucene_search_result_url_b\"]')\n",
    "    # timestamps_scrape = driver.find_elements_by_xpath('//dt[@class=\"search_result_line\"][2]')\n",
    "    # texts_scrape = driver.find_elements_by_xpath('//div[@class=\"SearchVolumeContentAlt2 svca19\"]')\n",
    "    # sources_scrape = driver.find_elements_by_xpath('//dt[@class=\"search_result_line\"][3]')\n",
    "    \n",
    "    for item in range(1, articles_per_page+1):\n",
    "        \n",
    "        titles_scrape = driver.find_element_by_xpath(row_xpath + f'[{item}]/dt[1]')\n",
    "        # print(titles_scrape.text)\n",
    "        titles.append(titles_scrape.text)\n",
    "        \n",
    "        try: \n",
    "            texts_scrape = driver.find_element_by_xpath(row_xpath + f'[{item}]/div[2]/div/div/div')\n",
    "            texts.append(texts_scrape.text)\n",
    "        except:\n",
    "            texts.append(\"\")\n",
    "        \n",
    "        timestamps_scrape = driver.find_element_by_xpath(row_xpath + f'[{item}]/dt[2]')\n",
    "        timestamps.append(timestamps_scrape.text)\n",
    "        \n",
    "        sources_scrape = driver.find_element_by_xpath(row_xpath + f'[{item}]/dt[3]')\n",
    "        sources.append(sources_scrape.text)\n",
    "        \n",
    "        subhead2_scrape = driver.find_element_by_xpath(row_xpath + f'[{item}]/dt[4]')\n",
    "        subhead2.append(subhead2_scrape.text)\n",
    "    \n",
    "    return titles, timestamps, texts, sources, subhead2"
   ]
  },
  {
   "cell_type": "code",
   "execution_count": 160,
   "id": "56ca5158",
   "metadata": {},
   "outputs": [],
   "source": [
    "parent = driver.window_handles[0]\n",
    "driver.close()\n",
    "driver.switch_to.window(parent)"
   ]
  },
  {
   "cell_type": "code",
   "execution_count": 11,
   "id": "f5581a61",
   "metadata": {},
   "outputs": [
    {
     "ename": "NoSuchElementException",
     "evalue": "Message: no such element: Unable to locate element: {\"method\":\"xpath\",\"selector\":\"(//div[contains(@class, \"lucene_search_result_b\")])[83]/dt[1]\"}\n  (Session info: chrome=109.0.5414.119)\n",
     "output_type": "error",
     "traceback": [
      "\u001b[0;31m---------------------------------------------------------------------------\u001b[0m",
      "\u001b[0;31mNoSuchElementException\u001b[0m                    Traceback (most recent call last)",
      "\u001b[0;32m/var/folders/j7/79hr95hd7kb_3g8vc4y594bc0000gn/T/ipykernel_19787/1557704290.py\u001b[0m in \u001b[0;36m<module>\u001b[0;34m\u001b[0m\n\u001b[1;32m      1\u001b[0m \u001b[0;32mfor\u001b[0m \u001b[0mpages\u001b[0m \u001b[0;32min\u001b[0m \u001b[0mrange\u001b[0m\u001b[0;34m(\u001b[0m\u001b[0mpages_scraped\u001b[0m\u001b[0;34m)\u001b[0m\u001b[0;34m:\u001b[0m\u001b[0;34m\u001b[0m\u001b[0;34m\u001b[0m\u001b[0m\n\u001b[0;32m----> 2\u001b[0;31m     \u001b[0mtitles\u001b[0m\u001b[0;34m,\u001b[0m \u001b[0mtimestamps\u001b[0m\u001b[0;34m,\u001b[0m \u001b[0mtexts\u001b[0m\u001b[0;34m,\u001b[0m \u001b[0msources\u001b[0m\u001b[0;34m,\u001b[0m \u001b[0msubhead2\u001b[0m \u001b[0;34m=\u001b[0m \u001b[0mprelim_scrape\u001b[0m\u001b[0;34m(\u001b[0m\u001b[0;34m)\u001b[0m\u001b[0;34m\u001b[0m\u001b[0;34m\u001b[0m\u001b[0m\n\u001b[0m\u001b[1;32m      3\u001b[0m \u001b[0;34m\u001b[0m\u001b[0m\n\u001b[1;32m      4\u001b[0m     \u001b[0mfull_titles\u001b[0m\u001b[0;34m.\u001b[0m\u001b[0mextend\u001b[0m\u001b[0;34m(\u001b[0m\u001b[0mtitles\u001b[0m\u001b[0;34m)\u001b[0m\u001b[0;34m\u001b[0m\u001b[0;34m\u001b[0m\u001b[0m\n\u001b[1;32m      5\u001b[0m     \u001b[0mfull_timestamps\u001b[0m\u001b[0;34m.\u001b[0m\u001b[0mextend\u001b[0m\u001b[0;34m(\u001b[0m\u001b[0mtimestamps\u001b[0m\u001b[0;34m)\u001b[0m\u001b[0;34m\u001b[0m\u001b[0;34m\u001b[0m\u001b[0m\n",
      "\u001b[0;32m/var/folders/j7/79hr95hd7kb_3g8vc4y594bc0000gn/T/ipykernel_19787/3294129011.py\u001b[0m in \u001b[0;36mprelim_scrape\u001b[0;34m()\u001b[0m\n\u001b[1;32m     19\u001b[0m     \u001b[0;32mfor\u001b[0m \u001b[0mitem\u001b[0m \u001b[0;32min\u001b[0m \u001b[0mrange\u001b[0m\u001b[0;34m(\u001b[0m\u001b[0;36m1\u001b[0m\u001b[0;34m,\u001b[0m \u001b[0marticles_per_page\u001b[0m\u001b[0;34m+\u001b[0m\u001b[0;36m1\u001b[0m\u001b[0;34m)\u001b[0m\u001b[0;34m:\u001b[0m\u001b[0;34m\u001b[0m\u001b[0;34m\u001b[0m\u001b[0m\n\u001b[1;32m     20\u001b[0m \u001b[0;34m\u001b[0m\u001b[0m\n\u001b[0;32m---> 21\u001b[0;31m         \u001b[0mtitles_scrape\u001b[0m \u001b[0;34m=\u001b[0m \u001b[0mdriver\u001b[0m\u001b[0;34m.\u001b[0m\u001b[0mfind_element_by_xpath\u001b[0m\u001b[0;34m(\u001b[0m\u001b[0mrow_xpath\u001b[0m \u001b[0;34m+\u001b[0m \u001b[0;34mf'[{item}]/dt[1]'\u001b[0m\u001b[0;34m)\u001b[0m\u001b[0;34m\u001b[0m\u001b[0;34m\u001b[0m\u001b[0m\n\u001b[0m\u001b[1;32m     22\u001b[0m         \u001b[0;31m# print(titles_scrape.text)\u001b[0m\u001b[0;34m\u001b[0m\u001b[0;34m\u001b[0m\u001b[0;34m\u001b[0m\u001b[0m\n\u001b[1;32m     23\u001b[0m         \u001b[0mtitles\u001b[0m\u001b[0;34m.\u001b[0m\u001b[0mappend\u001b[0m\u001b[0;34m(\u001b[0m\u001b[0mtitles_scrape\u001b[0m\u001b[0;34m.\u001b[0m\u001b[0mtext\u001b[0m\u001b[0;34m)\u001b[0m\u001b[0;34m\u001b[0m\u001b[0;34m\u001b[0m\u001b[0m\n",
      "\u001b[0;32m/opt/anaconda3/lib/python3.8/site-packages/selenium/webdriver/remote/webdriver.py\u001b[0m in \u001b[0;36mfind_element_by_xpath\u001b[0;34m(self, xpath)\u001b[0m\n\u001b[1;32m    392\u001b[0m             \u001b[0melement\u001b[0m \u001b[0;34m=\u001b[0m \u001b[0mdriver\u001b[0m\u001b[0;34m.\u001b[0m\u001b[0mfind_element_by_xpath\u001b[0m\u001b[0;34m(\u001b[0m\u001b[0;34m'//div/td[1]'\u001b[0m\u001b[0;34m)\u001b[0m\u001b[0;34m\u001b[0m\u001b[0;34m\u001b[0m\u001b[0m\n\u001b[1;32m    393\u001b[0m         \"\"\"\n\u001b[0;32m--> 394\u001b[0;31m         \u001b[0;32mreturn\u001b[0m \u001b[0mself\u001b[0m\u001b[0;34m.\u001b[0m\u001b[0mfind_element\u001b[0m\u001b[0;34m(\u001b[0m\u001b[0mby\u001b[0m\u001b[0;34m=\u001b[0m\u001b[0mBy\u001b[0m\u001b[0;34m.\u001b[0m\u001b[0mXPATH\u001b[0m\u001b[0;34m,\u001b[0m \u001b[0mvalue\u001b[0m\u001b[0;34m=\u001b[0m\u001b[0mxpath\u001b[0m\u001b[0;34m)\u001b[0m\u001b[0;34m\u001b[0m\u001b[0;34m\u001b[0m\u001b[0m\n\u001b[0m\u001b[1;32m    395\u001b[0m \u001b[0;34m\u001b[0m\u001b[0m\n\u001b[1;32m    396\u001b[0m     \u001b[0;32mdef\u001b[0m \u001b[0mfind_elements_by_xpath\u001b[0m\u001b[0;34m(\u001b[0m\u001b[0mself\u001b[0m\u001b[0;34m,\u001b[0m \u001b[0mxpath\u001b[0m\u001b[0;34m)\u001b[0m\u001b[0;34m:\u001b[0m\u001b[0;34m\u001b[0m\u001b[0;34m\u001b[0m\u001b[0m\n",
      "\u001b[0;32m/opt/anaconda3/lib/python3.8/site-packages/selenium/webdriver/remote/webdriver.py\u001b[0m in \u001b[0;36mfind_element\u001b[0;34m(self, by, value)\u001b[0m\n\u001b[1;32m    974\u001b[0m                 \u001b[0mby\u001b[0m \u001b[0;34m=\u001b[0m \u001b[0mBy\u001b[0m\u001b[0;34m.\u001b[0m\u001b[0mCSS_SELECTOR\u001b[0m\u001b[0;34m\u001b[0m\u001b[0;34m\u001b[0m\u001b[0m\n\u001b[1;32m    975\u001b[0m                 \u001b[0mvalue\u001b[0m \u001b[0;34m=\u001b[0m \u001b[0;34m'[name=\"%s\"]'\u001b[0m \u001b[0;34m%\u001b[0m \u001b[0mvalue\u001b[0m\u001b[0;34m\u001b[0m\u001b[0;34m\u001b[0m\u001b[0m\n\u001b[0;32m--> 976\u001b[0;31m         return self.execute(Command.FIND_ELEMENT, {\n\u001b[0m\u001b[1;32m    977\u001b[0m             \u001b[0;34m'using'\u001b[0m\u001b[0;34m:\u001b[0m \u001b[0mby\u001b[0m\u001b[0;34m,\u001b[0m\u001b[0;34m\u001b[0m\u001b[0;34m\u001b[0m\u001b[0m\n\u001b[1;32m    978\u001b[0m             'value': value})['value']\n",
      "\u001b[0;32m/opt/anaconda3/lib/python3.8/site-packages/selenium/webdriver/remote/webdriver.py\u001b[0m in \u001b[0;36mexecute\u001b[0;34m(self, driver_command, params)\u001b[0m\n\u001b[1;32m    319\u001b[0m         \u001b[0mresponse\u001b[0m \u001b[0;34m=\u001b[0m \u001b[0mself\u001b[0m\u001b[0;34m.\u001b[0m\u001b[0mcommand_executor\u001b[0m\u001b[0;34m.\u001b[0m\u001b[0mexecute\u001b[0m\u001b[0;34m(\u001b[0m\u001b[0mdriver_command\u001b[0m\u001b[0;34m,\u001b[0m \u001b[0mparams\u001b[0m\u001b[0;34m)\u001b[0m\u001b[0;34m\u001b[0m\u001b[0;34m\u001b[0m\u001b[0m\n\u001b[1;32m    320\u001b[0m         \u001b[0;32mif\u001b[0m \u001b[0mresponse\u001b[0m\u001b[0;34m:\u001b[0m\u001b[0;34m\u001b[0m\u001b[0;34m\u001b[0m\u001b[0m\n\u001b[0;32m--> 321\u001b[0;31m             \u001b[0mself\u001b[0m\u001b[0;34m.\u001b[0m\u001b[0merror_handler\u001b[0m\u001b[0;34m.\u001b[0m\u001b[0mcheck_response\u001b[0m\u001b[0;34m(\u001b[0m\u001b[0mresponse\u001b[0m\u001b[0;34m)\u001b[0m\u001b[0;34m\u001b[0m\u001b[0;34m\u001b[0m\u001b[0m\n\u001b[0m\u001b[1;32m    322\u001b[0m             response['value'] = self._unwrap_value(\n\u001b[1;32m    323\u001b[0m                 response.get('value', None))\n",
      "\u001b[0;32m/opt/anaconda3/lib/python3.8/site-packages/selenium/webdriver/remote/errorhandler.py\u001b[0m in \u001b[0;36mcheck_response\u001b[0;34m(self, response)\u001b[0m\n\u001b[1;32m    240\u001b[0m                 \u001b[0malert_text\u001b[0m \u001b[0;34m=\u001b[0m \u001b[0mvalue\u001b[0m\u001b[0;34m[\u001b[0m\u001b[0;34m'alert'\u001b[0m\u001b[0;34m]\u001b[0m\u001b[0;34m.\u001b[0m\u001b[0mget\u001b[0m\u001b[0;34m(\u001b[0m\u001b[0;34m'text'\u001b[0m\u001b[0;34m)\u001b[0m\u001b[0;34m\u001b[0m\u001b[0;34m\u001b[0m\u001b[0m\n\u001b[1;32m    241\u001b[0m             \u001b[0;32mraise\u001b[0m \u001b[0mexception_class\u001b[0m\u001b[0;34m(\u001b[0m\u001b[0mmessage\u001b[0m\u001b[0;34m,\u001b[0m \u001b[0mscreen\u001b[0m\u001b[0;34m,\u001b[0m \u001b[0mstacktrace\u001b[0m\u001b[0;34m,\u001b[0m \u001b[0malert_text\u001b[0m\u001b[0;34m)\u001b[0m\u001b[0;34m\u001b[0m\u001b[0;34m\u001b[0m\u001b[0m\n\u001b[0;32m--> 242\u001b[0;31m         \u001b[0;32mraise\u001b[0m \u001b[0mexception_class\u001b[0m\u001b[0;34m(\u001b[0m\u001b[0mmessage\u001b[0m\u001b[0;34m,\u001b[0m \u001b[0mscreen\u001b[0m\u001b[0;34m,\u001b[0m \u001b[0mstacktrace\u001b[0m\u001b[0;34m)\u001b[0m\u001b[0;34m\u001b[0m\u001b[0;34m\u001b[0m\u001b[0m\n\u001b[0m\u001b[1;32m    243\u001b[0m \u001b[0;34m\u001b[0m\u001b[0m\n\u001b[1;32m    244\u001b[0m     \u001b[0;32mdef\u001b[0m \u001b[0m_value_or_default\u001b[0m\u001b[0;34m(\u001b[0m\u001b[0mself\u001b[0m\u001b[0;34m,\u001b[0m \u001b[0mobj\u001b[0m\u001b[0;34m,\u001b[0m \u001b[0mkey\u001b[0m\u001b[0;34m,\u001b[0m \u001b[0mdefault\u001b[0m\u001b[0;34m)\u001b[0m\u001b[0;34m:\u001b[0m\u001b[0;34m\u001b[0m\u001b[0;34m\u001b[0m\u001b[0m\n",
      "\u001b[0;31mNoSuchElementException\u001b[0m: Message: no such element: Unable to locate element: {\"method\":\"xpath\",\"selector\":\"(//div[contains(@class, \"lucene_search_result_b\")])[83]/dt[1]\"}\n  (Session info: chrome=109.0.5414.119)\n"
     ]
    }
   ],
   "source": [
    "for pages in range(pages_scraped):\n",
    "    titles, timestamps, texts, sources, subhead2 = prelim_scrape()\n",
    "    \n",
    "    full_titles.extend(titles)\n",
    "    full_timestamps.extend(timestamps)\n",
    "    full_texts.extend(texts)\n",
    "    full_sources.extend(sources)\n",
    "    full_subhead2.extend(subhead2)\n",
    "    \n",
    "    next_button = driver.find_element_by_xpath('//a[@id=\"thenext\"]')\n",
    "    next_button.click()\n",
    "    time.sleep(10)"
   ]
  },
  {
   "cell_type": "code",
   "execution_count": 14,
   "id": "e921f921",
   "metadata": {},
   "outputs": [],
   "source": [
    "driver.quit()"
   ]
  },
  {
   "cell_type": "code",
   "execution_count": 13,
   "id": "d69e817f",
   "metadata": {},
   "outputs": [],
   "source": [
    "congress_2 = pd.DataFrame(list(zip(full_titles, full_timestamps, full_texts, full_sources, full_subhead2)),\n",
    "              columns=['Titles','Timestamps', 'Texts', 'Sources and Collection', 'Subheading 2'])\n",
    "congress_2.to_excel(\"congress200023pt_2.xlsx\")"
   ]
  },
  {
   "cell_type": "code",
   "execution_count": 86,
   "id": "f437e08d",
   "metadata": {},
   "outputs": [],
   "source": [
    "# //div[contains(@class, 'lucene_search_result_b')]/div[2]/div/div/div"
   ]
  },
  {
   "cell_type": "code",
   "execution_count": 12,
   "id": "860385d1",
   "metadata": {},
   "outputs": [
    {
     "name": "stdout",
     "output_type": "stream",
     "text": [
      "8300\n"
     ]
    }
   ],
   "source": [
    "print(len(full_sources))"
   ]
  },
  {
   "cell_type": "code",
   "execution_count": null,
   "id": "31042e35",
   "metadata": {},
   "outputs": [],
   "source": [
    "# https://heinonline-org.proxy.library.georgetown.edu/HOL/LuceneSearch?searchtype=field&submit=Go&search_within=&prev_q=(((((((China)))%20OR%20(((Chinese))))%20OR%20(((CCP))))%20OR%20(((PRC)))))&prev_origterms=&cited_by=&maxresults=100&terms=((((((China)))%20OR%20(((Chinese))))%20OR%20(((CCP))))%20OR%20(((PRC))))&origterms=&termtype=word&termtypea=phrase&termtypeb=phrase&termtypec=phrase&termtyped=phrase&termtypee=phrase&termtypef=phrase&sortby=&collection=congrec&specialcollection=&operator=OR&topic_operator=&operatorb=OR&operatorc=OR&operatord=AND&operatore=AND&termsa=(((China)))&termsb=(((Chinese)))&termsc=(((CCP)))&termsd=(((PRC)))&termse=&termsf=&typea=text&other_cols=yes&typeb=text&typec=text&typed=text&typee=text&typef=text&yearlo=2000&yearhi=2050&pure=0&all=&language=&congress=&judge=&court_name=&chamber=&IFI=&new_results=&new_face=partof&committee=&doc_type=&solr=true&dontsave=1&current_historical=&latest=&document_type_facet=&category_facet=&authority_type=ANY&country_code=&face_quers=partof:crs&face_quers=partof:debcong&collections=&cite_count=&jump=true&matches=((((China))))|((((Chinese))))|((((CCP))))|((((PRC))))&firstdoc=21800&initcounter=21801&infinite_scroll=off&pathfinder=&base="
   ]
  },
  {
   "cell_type": "markdown",
   "id": "d289a5b7",
   "metadata": {},
   "source": [
    "# Data Cleaning"
   ]
  },
  {
   "cell_type": "code",
   "execution_count": 7,
   "id": "48c60163",
   "metadata": {},
   "outputs": [],
   "source": [
    "def clean_text(text):\n",
    "    text = re.sub(r'Turn to page\\n', '', text)\n",
    "    text = re.sub(r'- ', '', text)\n",
    "    text = re.sub(r'[^\\w\\s]', '', text)\n",
    "    return text"
   ]
  },
  {
   "cell_type": "code",
   "execution_count": 35,
   "id": "31fceb29",
   "metadata": {},
   "outputs": [],
   "source": [
    "def extract_date(text):\n",
    "    try:\n",
    "        date_pattern = re.compile(r'(\\b\\w{3,9}\\b \\d{1,2}, \\d{4})')\n",
    "        date = date_pattern.search(text)\n",
    "        if date:\n",
    "            return date.group(0)\n",
    "    except: \n",
    "        pass\n",
    "    return None"
   ]
  },
  {
   "cell_type": "code",
   "execution_count": 20,
   "id": "4f74405d",
   "metadata": {},
   "outputs": [],
   "source": [
    "def extract_abbrev_date(text):\n",
    "    date_pattern = re.compile(r'(\\b[a-zA-Z]{3,4}\\.? \\d{1,2}\\b)')\n",
    "    date = date_pattern.search(text)\n",
    "    if date:\n",
    "        return date.group(0)\n",
    "    return None"
   ]
  },
  {
   "cell_type": "markdown",
   "id": "ebcf6702",
   "metadata": {},
   "source": [
    "## Cleaning Congress Text"
   ]
  },
  {
   "cell_type": "code",
   "execution_count": 64,
   "id": "cd4bda9c",
   "metadata": {},
   "outputs": [],
   "source": [
    "cong = pd.read_excel(\"congress200023pt_2.xlsx\")"
   ]
  },
  {
   "cell_type": "code",
   "execution_count": 34,
   "id": "a66a886e",
   "metadata": {},
   "outputs": [],
   "source": [
    "cong[['Timestamps', 'Sources and Collection']] = cong[['Timestamps', 'Sources and Collection']].fillna('')\n",
    "\n",
    "cong['date'] = cong[[\"Timestamps\", \"Sources and Collection\"]].applymap(lambda x: extract_date(x)).apply(lambda x: x[0] if x[0] else x[1], axis=1)"
   ]
  },
  {
   "cell_type": "code",
   "execution_count": 67,
   "id": "ddf016d9",
   "metadata": {},
   "outputs": [],
   "source": [
    "cong['Text'] = cong['Text'].fillna('')\n",
    "cong['cleaned_text'] = cong['Text'].apply(clean_text)"
   ]
  },
  {
   "cell_type": "code",
   "execution_count": 70,
   "id": "0db10a07",
   "metadata": {},
   "outputs": [
    {
     "data": {
      "text/plain": [
       "'President I rise today on behalf of myself and Senator ROBERTS to include an amendment to the foreign operations appropriations bill which will benefit both the United States and China President our amendment allows United States business to include China in the United StatesAsia Environmental Partnership The time is ripe for such action particularly as China prepares to enter the rulesbased trading system we know as the World Trade Organization Chinas participation is good news for China and better news for United States business Mr President the Senate has already shown its support for including China in the Asian Environmental Partnership through passage of an identical amendment in the 105th Congress'"
      ]
     },
     "execution_count": 70,
     "metadata": {},
     "output_type": "execute_result"
    }
   ],
   "source": [
    "cong['cleaned_text'][78]"
   ]
  },
  {
   "cell_type": "code",
   "execution_count": 71,
   "id": "3fbb821f",
   "metadata": {},
   "outputs": [],
   "source": [
    "cong.to_excel(\"congress200023pt_2.xlsx\")"
   ]
  },
  {
   "cell_type": "markdown",
   "id": "e99c0b4d",
   "metadata": {},
   "source": [
    "## Cleaning Presidential Library Text"
   ]
  },
  {
   "cell_type": "code",
   "execution_count": 24,
   "id": "ff3dc2d6",
   "metadata": {},
   "outputs": [],
   "source": [
    "# pres1 = pd.read_excel(\"preslib200023pt1.xlsx\")\n",
    "# pres2 = pd.read_excel(\"preslib200023pt2.xlsx\")\n",
    "\n",
    "# pres = pd.concat([pres1, pres2])\n",
    "\n",
    "pres = pd.read_excel(\"preslib200023.xlsx\")"
   ]
  },
  {
   "cell_type": "code",
   "execution_count": 9,
   "id": "96515e88",
   "metadata": {},
   "outputs": [],
   "source": [
    "pres['Texts'] = pres['Texts'].fillna('')\n",
    "pres['cleaned_text'] = pres['Texts'].apply(clean_text)"
   ]
  },
  {
   "cell_type": "code",
   "execution_count": 18,
   "id": "9e3f76af",
   "metadata": {},
   "outputs": [],
   "source": [
    "pres[['Timestamps', 'Subheading 2']] = pres[['Timestamps', 'Subheading 2']].fillna('')\n",
    "\n",
    "pres['date'] = pres.apply(lambda row: extract_date(row['Timestamps']) or extract_date(row['Texts']) or extract_date(row['Subheading 2']), axis=1)"
   ]
  },
  {
   "cell_type": "code",
   "execution_count": 36,
   "id": "ad1f8d1f",
   "metadata": {},
   "outputs": [],
   "source": [
    "# pres['abbv_date'] = pres['Texts'].apply(lambda x: extract_abbrev_date(x))\n",
    "\n",
    "pres['new_date'] = pres['Subheading'].apply(lambda x: extract_date(x))"
   ]
  },
  {
   "cell_type": "code",
   "execution_count": 37,
   "id": "84a8f488",
   "metadata": {},
   "outputs": [
    {
     "data": {
      "text/html": [
       "<div>\n",
       "<style scoped>\n",
       "    .dataframe tbody tr th:only-of-type {\n",
       "        vertical-align: middle;\n",
       "    }\n",
       "\n",
       "    .dataframe tbody tr th {\n",
       "        vertical-align: top;\n",
       "    }\n",
       "\n",
       "    .dataframe thead th {\n",
       "        text-align: right;\n",
       "    }\n",
       "</style>\n",
       "<table border=\"1\" class=\"dataframe\">\n",
       "  <thead>\n",
       "    <tr style=\"text-align: right;\">\n",
       "      <th></th>\n",
       "      <th>Unnamed: 0</th>\n",
       "      <th>Unnamed: 0.1</th>\n",
       "      <th>Titles</th>\n",
       "      <th>date</th>\n",
       "      <th>Texts</th>\n",
       "      <th>cleaned_text</th>\n",
       "      <th>Subheading</th>\n",
       "      <th>new_date</th>\n",
       "    </tr>\n",
       "  </thead>\n",
       "  <tbody>\n",
       "    <tr>\n",
       "      <th>0</th>\n",
       "      <td>3066.0</td>\n",
       "      <td>3066.0</td>\n",
       "      <td>Impeachment: An Overview of Constitutional Pro...</td>\n",
       "      <td>2009-06-22</td>\n",
       "      <td>Turn to page\\nFor example, on March 1, 1879, a...</td>\n",
       "      <td>For example on March 1 1879 after investigatin...</td>\n",
       "      <td>Bazan, Elizabeth B. (Cited 2 times); Henning, ...</td>\n",
       "      <td>None</td>\n",
       "    </tr>\n",
       "    <tr>\n",
       "      <th>1</th>\n",
       "      <td>3166.0</td>\n",
       "      <td>3166.0</td>\n",
       "      <td>Impeachment: An Overview of Constitutional Pro...</td>\n",
       "      <td>2009-06-22</td>\n",
       "      <td>Turn to page\\nFor example, on March 1, 1879, a...</td>\n",
       "      <td>For example on March 1 1879 after investigatin...</td>\n",
       "      <td>Bazan, Elizabeth B. (Cited 2 times); Henning, ...</td>\n",
       "      <td>None</td>\n",
       "    </tr>\n",
       "    <tr>\n",
       "      <th>2</th>\n",
       "      <td>2586.0</td>\n",
       "      <td>2586.0</td>\n",
       "      <td>Qualifications for President and the Natural B...</td>\n",
       "      <td>2011-11-14</td>\n",
       "      <td>Turn to page\\nQualifications for President and...</td>\n",
       "      <td>Qualifications for President and the Natural B...</td>\n",
       "      <td>Maskell, Jack (Cited 6 times)</td>\n",
       "      <td>None</td>\n",
       "    </tr>\n",
       "    <tr>\n",
       "      <th>3</th>\n",
       "      <td>1093.0</td>\n",
       "      <td>1093.0</td>\n",
       "      <td>2016 Book 2 Pub. Papers 1705 (2016-2017)</td>\n",
       "      <td>NaT</td>\n",
       "      <td>Turn to page\\nOn July 14, 2015, the P5+1 (Chin...</td>\n",
       "      <td>On July 14 2015 the P51 China France Germany R...</td>\n",
       "      <td>Public Papers of the Presidents of the United ...</td>\n",
       "      <td>None</td>\n",
       "    </tr>\n",
       "    <tr>\n",
       "      <th>4</th>\n",
       "      <td>1094.0</td>\n",
       "      <td>1094.0</td>\n",
       "      <td>2016 Book 2 Pub. Papers 1704 (2016-2017)</td>\n",
       "      <td>NaT</td>\n",
       "      <td>Turn to page\\nOn July 14, 2015, the P5+1 (Chin...</td>\n",
       "      <td>On July 14 2015 the P51 China France Germany R...</td>\n",
       "      <td>Public Papers of the Presidents of the United ...</td>\n",
       "      <td>None</td>\n",
       "    </tr>\n",
       "  </tbody>\n",
       "</table>\n",
       "</div>"
      ],
      "text/plain": [
       "   Unnamed: 0  Unnamed: 0.1  \\\n",
       "0      3066.0        3066.0   \n",
       "1      3166.0        3166.0   \n",
       "2      2586.0        2586.0   \n",
       "3      1093.0        1093.0   \n",
       "4      1094.0        1094.0   \n",
       "\n",
       "                                              Titles       date  \\\n",
       "0  Impeachment: An Overview of Constitutional Pro... 2009-06-22   \n",
       "1  Impeachment: An Overview of Constitutional Pro... 2009-06-22   \n",
       "2  Qualifications for President and the Natural B... 2011-11-14   \n",
       "3           2016 Book 2 Pub. Papers 1705 (2016-2017)        NaT   \n",
       "4           2016 Book 2 Pub. Papers 1704 (2016-2017)        NaT   \n",
       "\n",
       "                                               Texts  \\\n",
       "0  Turn to page\\nFor example, on March 1, 1879, a...   \n",
       "1  Turn to page\\nFor example, on March 1, 1879, a...   \n",
       "2  Turn to page\\nQualifications for President and...   \n",
       "3  Turn to page\\nOn July 14, 2015, the P5+1 (Chin...   \n",
       "4  Turn to page\\nOn July 14, 2015, the P5+1 (Chin...   \n",
       "\n",
       "                                        cleaned_text  \\\n",
       "0  For example on March 1 1879 after investigatin...   \n",
       "1  For example on March 1 1879 after investigatin...   \n",
       "2  Qualifications for President and the Natural B...   \n",
       "3  On July 14 2015 the P51 China France Germany R...   \n",
       "4  On July 14 2015 the P51 China France Germany R...   \n",
       "\n",
       "                                          Subheading new_date  \n",
       "0  Bazan, Elizabeth B. (Cited 2 times); Henning, ...     None  \n",
       "1  Bazan, Elizabeth B. (Cited 2 times); Henning, ...     None  \n",
       "2                    Maskell, Jack (Cited 6 times)       None  \n",
       "3  Public Papers of the Presidents of the United ...     None  \n",
       "4  Public Papers of the Presidents of the United ...     None  "
      ]
     },
     "execution_count": 37,
     "metadata": {},
     "output_type": "execute_result"
    }
   ],
   "source": [
    "pres.head()"
   ]
  },
  {
   "cell_type": "code",
   "execution_count": 38,
   "id": "2247e772",
   "metadata": {},
   "outputs": [],
   "source": [
    "pres.to_excel('preslib200023.xlsx')"
   ]
  },
  {
   "cell_type": "code",
   "execution_count": null,
   "id": "dfa40697",
   "metadata": {},
   "outputs": [],
   "source": []
  }
 ],
 "metadata": {
  "kernelspec": {
   "display_name": "Python 3 (ipykernel)",
   "language": "python",
   "name": "python3"
  },
  "language_info": {
   "codemirror_mode": {
    "name": "ipython",
    "version": 3
   },
   "file_extension": ".py",
   "mimetype": "text/x-python",
   "name": "python",
   "nbconvert_exporter": "python",
   "pygments_lexer": "ipython3",
   "version": "3.8.8"
  }
 },
 "nbformat": 4,
 "nbformat_minor": 5
}
